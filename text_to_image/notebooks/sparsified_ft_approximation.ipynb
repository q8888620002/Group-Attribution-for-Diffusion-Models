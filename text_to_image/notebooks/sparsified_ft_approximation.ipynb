{
 "cells": [
  {
   "cell_type": "code",
   "execution_count": 31,
   "id": "3575b434-aa7f-4f37-a749-ffad649cce66",
   "metadata": {},
   "outputs": [],
   "source": [
    "import os\n",
    "\n",
    "import numpy as np\n",
    "import pandas as pd\n",
    "import matplotlib.pyplot as plt\n",
    "\n",
    "from scipy.stats import pearsonr, spearmanr"
   ]
  },
  {
   "cell_type": "code",
   "execution_count": 32,
   "id": "a9299c8d-f359-4fec-8655-c85a298df27b",
   "metadata": {},
   "outputs": [],
   "source": [
    "def get_data(json_file):\n",
    "    df = pd.read_json(json_file, lines=True)\n",
    "    df[\"subset_seed\"] = (\n",
    "        df[\"exp_name\"].str.split(\"seed_\", expand=True)[1].astype(int)\n",
    "    )\n",
    "    df = df.sort_values(by=\"subset_seed\")\n",
    "    df = df[[\"aesthetic_score_0.9\", \"subset_seed\"]]\n",
    "    return df"
   ]
  },
  {
   "cell_type": "code",
   "execution_count": 33,
   "id": "8f665d08-0a56-4419-9fde-6b0b79a0ba9a",
   "metadata": {},
   "outputs": [],
   "source": [
    "outdir = \"/gscratch/aims/diffusion-attr/seed42/artbench_post_impressionism\"\n",
    "\n",
    "retrain_df = get_data(os.path.join(outdir, \"retrain_artist_shapley.jsonl\"))\n",
    "sgd_df_dict = {}\n",
    "for steps in [100, 200, 400, 800]:\n",
    "    sgd_df_dict[steps] = get_data(\n",
    "        os.path.join(outdir, f\"sparse_gd_artist_shapley_{steps}steps.jsonl\")\n",
    "    )"
   ]
  },
  {
   "cell_type": "code",
   "execution_count": 34,
   "id": "1cb28c7c-af23-4baa-a5b5-f264f64288d9",
   "metadata": {},
   "outputs": [],
   "source": [
    "num_subsets = 100\n",
    "retrain_df = retrain_df[:num_subsets]\n",
    "subset_seeds = retrain_df[\"subset_seed\"].tolist()\n",
    "for key, df in sgd_df_dict.items():\n",
    "    sgd_df_dict[key] = df[df[\"subset_seed\"].isin(subset_seeds)]"
   ]
  },
  {
   "cell_type": "code",
   "execution_count": 35,
   "id": "5830ef6f-6d88-425a-8ec0-30aecd51a600",
   "metadata": {},
   "outputs": [
    {
     "name": "stdout",
     "output_type": "stream",
     "text": [
      "Num steps = 100\n",
      "Pearson: 0.4273268299437773\n",
      "Spearman: 0.2981938193819382\n",
      "MSE: 0.12316345537066944\n",
      "\n",
      "Num steps = 200\n",
      "Pearson: 0.6812814860355162\n",
      "Spearman: 0.49298529852985296\n",
      "MSE: 0.07597882444507498\n",
      "\n",
      "Num steps = 400\n",
      "Pearson: 0.7078885332425474\n",
      "Spearman: 0.5665526552655265\n",
      "MSE: 0.07332177400383642\n",
      "\n",
      "Num steps = 800\n",
      "Pearson: 0.7302704707960246\n",
      "Spearman: 0.604080408040804\n",
      "MSE: 0.14274842940409582\n",
      "\n"
     ]
    }
   ],
   "source": [
    "for key, df in sgd_df_dict.items():\n",
    "    print(f\"Num steps = {key}\")\n",
    "    retrain_scores = retrain_df[\"aesthetic_score_0.9\"].to_numpy()\n",
    "    sgd_scores = df[\"aesthetic_score_0.9\"].to_numpy()\n",
    "    pearson_val, _ = pearsonr(retrain_scores, sgd_scores)\n",
    "    spearman_val, _ = spearmanr(retrain_scores, sgd_scores)\n",
    "    mse_val = np.mean((retrain_scores - sgd_scores) ** 2)\n",
    "    print(f\"Pearson: {pearson_val}\")\n",
    "    print(f\"Spearman: {spearman_val}\")\n",
    "    print(f\"MSE: {mse_val}\")\n",
    "    print(\"\")"
   ]
  },
  {
   "cell_type": "code",
   "execution_count": null,
   "id": "0c430e72-1668-4770-8782-fbe7cac256c4",
   "metadata": {},
   "outputs": [],
   "source": []
  }
 ],
 "metadata": {
  "kernelspec": {
   "display_name": "Python 3 (ipykernel)",
   "language": "python",
   "name": "python3"
  },
  "language_info": {
   "codemirror_mode": {
    "name": "ipython",
    "version": 3
   },
   "file_extension": ".py",
   "mimetype": "text/x-python",
   "name": "python",
   "nbconvert_exporter": "python",
   "pygments_lexer": "ipython3",
   "version": "3.12.7"
  }
 },
 "nbformat": 4,
 "nbformat_minor": 5
}
