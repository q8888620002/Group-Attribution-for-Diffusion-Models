{
 "cells": [
  {
   "cell_type": "markdown",
   "metadata": {},
   "source": [
    "* https://github.com/ndb796/LatentHSJA\n",
    "* https://postechackr-my.sharepoint.com/:u:/g/personal/dongbinna_postech_ac_kr/ES-jbCNC6mNHhCyR4Nl1QpYBlxVOJ5YiVerhDpzmoS9ezA\n",
    "\n",
    "download CelebA_HQ_facial_identity_dataset.zip"
   ]
  },
  {
   "cell_type": "code",
   "execution_count": 17,
   "metadata": {},
   "outputs": [],
   "source": [
    "import glob\n",
    "import pandas as pd\n",
    "import shutil\n",
    "import os\n",
    "import tqdm"
   ]
  },
  {
   "cell_type": "code",
   "execution_count": null,
   "metadata": {},
   "outputs": [],
   "source": [
    "# We have a dataset with the following directory structure train/*/*.jpg and test/*/*.jpg"
   ]
  },
  {
   "cell_type": "code",
   "execution_count": 13,
   "metadata": {},
   "outputs": [],
   "source": [
    "base_dir = \"/projects/leelab3/chanwkim/data_attribution/datasets/\""
   ]
  },
  {
   "cell_type": "code",
   "execution_count": 14,
   "metadata": {},
   "outputs": [],
   "source": [
    "train_images = glob.glob(base_dir + \"train/*/*.jpg\")"
   ]
  },
  {
   "cell_type": "code",
   "execution_count": 15,
   "metadata": {},
   "outputs": [],
   "source": [
    "test_images = glob.glob(base_dir + \"test/*/*.jpg\")"
   ]
  },
  {
   "cell_type": "code",
   "execution_count": 16,
   "metadata": {},
   "outputs": [
    {
     "data": {
      "text/plain": [
       "(4263, 1215)"
      ]
     },
     "execution_count": 16,
     "metadata": {},
     "output_type": "execute_result"
    }
   ],
   "source": [
    "len(train_images), len(test_images)"
   ]
  },
  {
   "cell_type": "code",
   "execution_count": 18,
   "metadata": {},
   "outputs": [
    {
     "name": "stderr",
     "output_type": "stream",
     "text": [
      "100%|██████████| 4263/4263 [02:44<00:00, 25.86it/s]\n",
      "100%|██████████| 1215/1215 [00:46<00:00, 26.09it/s]\n"
     ]
    }
   ],
   "source": [
    "# move to a same directory\n",
    "import shutil\n",
    "import os\n",
    "\n",
    "os.makedirs(base_dir+\"celeba_hq_256_curated\", exist_ok=True)\n",
    "for image in tqdm.tqdm(train_images):\n",
    "    # rename to */*.jpg to *_*.jpg\n",
    "    new_image = \"/\".join(image.split(\"/\")[-2:]).replace(\"/\", \"_\")\n",
    "    shutil.copy(image, os.path.join(base_dir + \"celeba_hq_256_curated\", new_image))\n",
    "\n",
    "for image in tqdm.tqdm(test_images):\n",
    "    # rename to */*.jpg to *_*.jpg\n",
    "    new_image = \"/\".join(image.split(\"/\")[-2:]).replace(\"/\", \"_\")\n",
    "    shutil.copy(\n",
    "        image,\n",
    "        os.path.join(base_dir + \"celeba_hq_256_curated\", new_image),\n",
    "    )"
   ]
  },
  {
   "cell_type": "code",
   "execution_count": 19,
   "metadata": {},
   "outputs": [],
   "source": [
    "assert (len(train_images) + len(test_images)) == len(\n",
    "    glob.glob(base_dir + \"celeba_hq_256_curated/*.jpg\")\n",
    ")"
   ]
  },
  {
   "cell_type": "code",
   "execution_count": 20,
   "metadata": {},
   "outputs": [],
   "source": [
    "df_train=pd.DataFrame({\n",
    "    \"image_path\":[x.split(\"/\")[-1] for x in train_images],\n",
    "    \"label\":[int(image.split(\"/\")[-2]) for image in train_images],})\n",
    "\n",
    "df_test = pd.DataFrame(\n",
    "    {\n",
    "        \"image_path\": [x.split(\"/\")[-1] for x in test_images],\n",
    "        \"label\": [int(image.split(\"/\")[-2]) for image in test_images],\n",
    "    }\n",
    ")"
   ]
  },
  {
   "cell_type": "code",
   "execution_count": 27,
   "metadata": {},
   "outputs": [],
   "source": [
    "# make a dataframe with the following columns: image_path, label, split\n",
    "all_images = glob.glob(base_dir + \"celeba_hq_256_curated/*.jpg\")\n",
    "df = pd.DataFrame(\n",
    "    {\n",
    "        \"filename\": [x.split(\"/\")[-1] for x in all_images],\n",
    "        \"celeb\": [x.split(\"/\")[-1].split(\"_\")[0] for x in all_images],\n",
    "        \"split\": [\n",
    "            (\n",
    "                \"train\"\n",
    "                if x.split(\"/\")[-1]\n",
    "                in set(df_test[\"label\"].astype(str) + \"_\" + df_test[\"image_path\"])\n",
    "                else \"test\"\n",
    "            )\n",
    "            for x in all_images\n",
    "        ],\n",
    "    }\n",
    ")"
   ]
  },
  {
   "cell_type": "code",
   "execution_count": 29,
   "metadata": {},
   "outputs": [
    {
     "data": {
      "text/html": [
       "<div>\n",
       "<style scoped>\n",
       "    .dataframe tbody tr th:only-of-type {\n",
       "        vertical-align: middle;\n",
       "    }\n",
       "\n",
       "    .dataframe tbody tr th {\n",
       "        vertical-align: top;\n",
       "    }\n",
       "\n",
       "    .dataframe thead th {\n",
       "        text-align: right;\n",
       "    }\n",
       "</style>\n",
       "<table border=\"1\" class=\"dataframe\">\n",
       "  <thead>\n",
       "    <tr style=\"text-align: right;\">\n",
       "      <th></th>\n",
       "      <th>filename</th>\n",
       "      <th>celeb</th>\n",
       "      <th>split</th>\n",
       "    </tr>\n",
       "  </thead>\n",
       "  <tbody>\n",
       "    <tr>\n",
       "      <th>0</th>\n",
       "      <td>1550_5862.jpg</td>\n",
       "      <td>1550</td>\n",
       "      <td>train</td>\n",
       "    </tr>\n",
       "    <tr>\n",
       "      <th>1</th>\n",
       "      <td>982_9641.jpg</td>\n",
       "      <td>982</td>\n",
       "      <td>train</td>\n",
       "    </tr>\n",
       "    <tr>\n",
       "      <th>2</th>\n",
       "      <td>1269_9713.jpg</td>\n",
       "      <td>1269</td>\n",
       "      <td>train</td>\n",
       "    </tr>\n",
       "    <tr>\n",
       "      <th>3</th>\n",
       "      <td>2076_14576.jpg</td>\n",
       "      <td>2076</td>\n",
       "      <td>test</td>\n",
       "    </tr>\n",
       "    <tr>\n",
       "      <th>4</th>\n",
       "      <td>805_7036.jpg</td>\n",
       "      <td>805</td>\n",
       "      <td>train</td>\n",
       "    </tr>\n",
       "    <tr>\n",
       "      <th>...</th>\n",
       "      <td>...</td>\n",
       "      <td>...</td>\n",
       "      <td>...</td>\n",
       "    </tr>\n",
       "    <tr>\n",
       "      <th>5473</th>\n",
       "      <td>560_26861.jpg</td>\n",
       "      <td>560</td>\n",
       "      <td>test</td>\n",
       "    </tr>\n",
       "    <tr>\n",
       "      <th>5474</th>\n",
       "      <td>195_5281.jpg</td>\n",
       "      <td>195</td>\n",
       "      <td>train</td>\n",
       "    </tr>\n",
       "    <tr>\n",
       "      <th>5475</th>\n",
       "      <td>1538_4254.jpg</td>\n",
       "      <td>1538</td>\n",
       "      <td>test</td>\n",
       "    </tr>\n",
       "    <tr>\n",
       "      <th>5476</th>\n",
       "      <td>1027_1636.jpg</td>\n",
       "      <td>1027</td>\n",
       "      <td>test</td>\n",
       "    </tr>\n",
       "    <tr>\n",
       "      <th>5477</th>\n",
       "      <td>628_1932.jpg</td>\n",
       "      <td>628</td>\n",
       "      <td>test</td>\n",
       "    </tr>\n",
       "  </tbody>\n",
       "</table>\n",
       "<p>5478 rows × 3 columns</p>\n",
       "</div>"
      ],
      "text/plain": [
       "            filename celeb  split\n",
       "0      1550_5862.jpg  1550  train\n",
       "1       982_9641.jpg   982  train\n",
       "2      1269_9713.jpg  1269  train\n",
       "3     2076_14576.jpg  2076   test\n",
       "4       805_7036.jpg   805  train\n",
       "...              ...   ...    ...\n",
       "5473   560_26861.jpg   560   test\n",
       "5474    195_5281.jpg   195  train\n",
       "5475   1538_4254.jpg  1538   test\n",
       "5476   1027_1636.jpg  1027   test\n",
       "5477    628_1932.jpg   628   test\n",
       "\n",
       "[5478 rows x 3 columns]"
      ]
     },
     "execution_count": 29,
     "metadata": {},
     "output_type": "execute_result"
    }
   ],
   "source": [
    "df"
   ]
  },
  {
   "cell_type": "code",
   "execution_count": 30,
   "metadata": {},
   "outputs": [],
   "source": [
    "df.to_csv(base_dir + \"celeba_hq_256_curated/labels.csv\", index=False)"
   ]
  },
  {
   "cell_type": "code",
   "execution_count": 44,
   "metadata": {},
   "outputs": [
    {
     "data": {
      "text/html": [
       "<div>\n",
       "<style scoped>\n",
       "    .dataframe tbody tr th:only-of-type {\n",
       "        vertical-align: middle;\n",
       "    }\n",
       "\n",
       "    .dataframe tbody tr th {\n",
       "        vertical-align: top;\n",
       "    }\n",
       "\n",
       "    .dataframe thead th {\n",
       "        text-align: right;\n",
       "    }\n",
       "</style>\n",
       "<table border=\"1\" class=\"dataframe\">\n",
       "  <thead>\n",
       "    <tr style=\"text-align: right;\">\n",
       "      <th></th>\n",
       "      <th>filename</th>\n",
       "      <th>celeb</th>\n",
       "      <th>split</th>\n",
       "    </tr>\n",
       "  </thead>\n",
       "  <tbody>\n",
       "    <tr>\n",
       "      <th>1</th>\n",
       "      <td>982_9641.jpg</td>\n",
       "      <td>982</td>\n",
       "      <td>train</td>\n",
       "    </tr>\n",
       "    <tr>\n",
       "      <th>4</th>\n",
       "      <td>805_7036.jpg</td>\n",
       "      <td>805</td>\n",
       "      <td>train</td>\n",
       "    </tr>\n",
       "    <tr>\n",
       "      <th>13</th>\n",
       "      <td>2214_16719.jpg</td>\n",
       "      <td>2214</td>\n",
       "      <td>test</td>\n",
       "    </tr>\n",
       "    <tr>\n",
       "      <th>17</th>\n",
       "      <td>615_8231.jpg</td>\n",
       "      <td>615</td>\n",
       "      <td>train</td>\n",
       "    </tr>\n",
       "    <tr>\n",
       "      <th>19</th>\n",
       "      <td>228_21802.jpg</td>\n",
       "      <td>228</td>\n",
       "      <td>test</td>\n",
       "    </tr>\n",
       "    <tr>\n",
       "      <th>...</th>\n",
       "      <td>...</td>\n",
       "      <td>...</td>\n",
       "      <td>...</td>\n",
       "    </tr>\n",
       "    <tr>\n",
       "      <th>5451</th>\n",
       "      <td>188_6642.jpg</td>\n",
       "      <td>188</td>\n",
       "      <td>train</td>\n",
       "    </tr>\n",
       "    <tr>\n",
       "      <th>5453</th>\n",
       "      <td>1293_23808.jpg</td>\n",
       "      <td>1293</td>\n",
       "      <td>test</td>\n",
       "    </tr>\n",
       "    <tr>\n",
       "      <th>5459</th>\n",
       "      <td>95_1413.jpg</td>\n",
       "      <td>95</td>\n",
       "      <td>test</td>\n",
       "    </tr>\n",
       "    <tr>\n",
       "      <th>5462</th>\n",
       "      <td>452_10823.jpg</td>\n",
       "      <td>452</td>\n",
       "      <td>test</td>\n",
       "    </tr>\n",
       "    <tr>\n",
       "      <th>5475</th>\n",
       "      <td>1538_4254.jpg</td>\n",
       "      <td>1538</td>\n",
       "      <td>test</td>\n",
       "    </tr>\n",
       "  </tbody>\n",
       "</table>\n",
       "<p>895 rows × 3 columns</p>\n",
       "</div>"
      ],
      "text/plain": [
       "            filename celeb  split\n",
       "1       982_9641.jpg   982  train\n",
       "4       805_7036.jpg   805  train\n",
       "13    2214_16719.jpg  2214   test\n",
       "17      615_8231.jpg   615  train\n",
       "19     228_21802.jpg   228   test\n",
       "...              ...   ...    ...\n",
       "5451    188_6642.jpg   188  train\n",
       "5453  1293_23808.jpg  1293   test\n",
       "5459     95_1413.jpg    95   test\n",
       "5462   452_10823.jpg   452   test\n",
       "5475   1538_4254.jpg  1538   test\n",
       "\n",
       "[895 rows x 3 columns]"
      ]
     },
     "execution_count": 44,
     "metadata": {},
     "output_type": "execute_result"
    }
   ],
   "source": [
    "# number-based sampling\n",
    "num_threshold=0\n",
    "label_counts=df[\"celeb\"].value_counts().sort_values(ascending=False)\n",
    "label_counts = label_counts[label_counts > num_threshold]\n",
    "\n",
    "# sample 50 labels\n",
    "label_counts=label_counts.sample(50, random_state=44)\n",
    "\n",
    "df_filtered = df[df[\"celeb\"].isin(label_counts.index)]\n",
    "\n",
    "df_filtered"
   ]
  },
  {
   "cell_type": "code",
   "execution_count": 53,
   "metadata": {},
   "outputs": [
    {
     "data": {
      "text/plain": [
       "(50, 895)"
      ]
     },
     "execution_count": 53,
     "metadata": {},
     "output_type": "execute_result"
    }
   ],
   "source": [
    "len(label_counts), len(df_filtered)"
   ]
  },
  {
   "cell_type": "code",
   "execution_count": null,
   "metadata": {},
   "outputs": [],
   "source": [
    "# plot 10 images per label\n",
    "import matplotlib.pyplot as plt\n",
    "import numpy as np\n",
    "\n",
    "num_rows = 50\n",
    "num_samples = 10\n",
    "\n",
    "fig, axes = plt.subplots(num_rows, num_samples, figsize=(1 * num_samples, 1 * num_rows))\n",
    "for i, (label, group) in enumerate(df_filtered.groupby(\"celeb\")):\n",
    "    for j, (_, row) in enumerate(group.sample(num_samples).iterrows()):\n",
    "        ax = axes[i, j]\n",
    "        ax.imshow(\n",
    "            plt.imread(\n",
    "                base_dir + \"celeba_hq_256_curated\" + \"/\" + row[\"filename\"]\n",
    "            )\n",
    "        )\n",
    "        ax.axis(\"off\")\n",
    "        ax.set_title(f\"label: {label} - n=\" + str(len(group)), fontdict={\"fontsize\": 4})\n",
    "    if i == num_rows - 1:\n",
    "        break\n",
    "# save fig\n",
    "fig.savefig(\n",
    "    base_dir + \"celeba_hq_256_curated/celeba_hq_256_curated_sampled.png\", dpi=300\n",
    ")\n",
    "\n",
    "# close fig\n",
    "plt.close(fig)"
   ]
  },
  {
   "cell_type": "code",
   "execution_count": 47,
   "metadata": {},
   "outputs": [],
   "source": [
    "directory = base_dir + \"celeba_hq_256_50_resized/\"\n",
    "shutil.rmtree(directory)"
   ]
  },
  {
   "cell_type": "code",
   "execution_count": 50,
   "metadata": {},
   "outputs": [],
   "source": [
    "os.makedirs(base_dir + \"celeba_hq_256_50_resized\", exist_ok=True)\n",
    "df_filtered.to_csv(base_dir + \"celeba_hq_256_50_resized/labels.csv\", index=False)"
   ]
  },
  {
   "cell_type": "code",
   "execution_count": 51,
   "metadata": {},
   "outputs": [],
   "source": [
    "from PIL import Image\n",
    "import albumentations\n",
    "import numpy as np"
   ]
  },
  {
   "cell_type": "markdown",
   "metadata": {},
   "source": [
    "Resizing\n",
    "* https://github.com/CompVis/latent-diffusion/blob/main/configs/latent-diffusion/celebahq-ldm-vq-4.yaml\n",
    "* https://github.com/CompVis/taming-transformers/blob/master/taming/data/faceshq.py#L29C1-L29C6\n",
    "\n",
    "* https://github.com/CompVis/latent-diffusion/blob/main/configs/autoencoder/autoencoder_kl_64x64x3.yaml#L36\n",
    "* https://github.com/CompVis/latent-diffusion/blob/main/ldm/data/imagenet.py#L319"
   ]
  },
  {
   "cell_type": "code",
   "execution_count": 52,
   "metadata": {},
   "outputs": [],
   "source": [
    "for idx, row in df_filtered.iterrows():\n",
    "    path = base_dir + \"celeba_hq_256_curated\" + \"/\" + row[\"filename\"]\n",
    "    image = Image.open(path)\n",
    "    size = 256\n",
    "    rescaler = albumentations.SmallestMaxSize(max_size=size)\n",
    "    cropper = albumentations.CenterCrop(height=size, width=size)\n",
    "    preprocessor = albumentations.Compose([rescaler, cropper])\n",
    "    image = np.array(image).astype(np.uint8)\n",
    "    image_new = preprocessor(image=image)\n",
    "    Image.fromarray(image_new[\"image\"]).save(\n",
    "        path.replace(\"celeba_hq_256_curated\", \"celeba_hq_256_50_resized\")\n",
    "    )    "
   ]
  },
  {
   "cell_type": "code",
   "execution_count": 59,
   "metadata": {},
   "outputs": [
    {
     "data": {
      "text/plain": [
       "'/projects/leelab3/chanwkim/data_attribution/datasets/'"
      ]
     },
     "execution_count": 59,
     "metadata": {},
     "output_type": "execute_result"
    }
   ],
   "source": [
    "base_dir"
   ]
  },
  {
   "cell_type": "markdown",
   "metadata": {},
   "source": [
    "* hair color\n",
    "* curly hair\n",
    "* hair length\n",
    "* eye color\n",
    "* beard\n",
    "* gender\n",
    "\n",
    "---\n",
    "* ethnicity all white?"
   ]
  },
  {
   "cell_type": "markdown",
   "metadata": {},
   "source": [
    "tar the directory base_dir + \"celeba_hq_256_50_resized\" only include the \"/celeba_hq_256_50_resized/.jpg\"\n",
    "\n",
    "```bash\n",
    "cd /projects/leelab3/chanwkim/data_attribution/datasets/\n",
    "tar -czvf celeba_hq_256_50_resized.tar.gz celeba_hq_256_50_resized/\n",
    "```"
   ]
  },
  {
   "cell_type": "markdown",
   "metadata": {},
   "source": [
    "using sftp, send to  host \"klone-login' directory: /gscratch/aims/datasets/\n",
    "```bash\n",
    "scp /projects/leelab3/chanwkim/data_attribution/datasets//celeba_hq_256_50_resized.tar.gz chanwkim@klone-login:/gscratch/aims/datasets/\n",
    "```"
   ]
  },
  {
   "cell_type": "markdown",
   "metadata": {},
   "source": [
    "```bash\n",
    "ssh chanwkim@klone-login\n",
    "cd /gscratch/aims/datasets/\n",
    "tar -xzvf celeba_hq_256_50_resized.tar.gz\n",
    "```"
   ]
  }
 ],
 "metadata": {
  "kernelspec": {
   "display_name": "data_attribution2",
   "language": "python",
   "name": "data_attribution2"
  },
  "language_info": {
   "codemirror_mode": {
    "name": "ipython",
    "version": 3
   },
   "file_extension": ".py",
   "mimetype": "text/x-python",
   "name": "python",
   "nbconvert_exporter": "python",
   "pygments_lexer": "ipython3",
   "version": "3.10.13"
  }
 },
 "nbformat": 4,
 "nbformat_minor": 2
}
